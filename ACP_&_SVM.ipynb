{
 "cells": [
  {
   "cell_type": "code",
   "execution_count": 1,
   "metadata": {},
   "outputs": [],
   "source": [
    "import pandas as pd\n",
    "import numpy as np\n",
    "import matplotlib.pyplot as plt\n",
    "%matplotlib inline\n",
    "import seaborn as sns"
   ]
  },
  {
   "cell_type": "code",
   "execution_count": 3,
   "metadata": {},
   "outputs": [],
   "source": [
    "from sklearn.datasets import load_breast_cancer"
   ]
  },
  {
   "cell_type": "code",
   "execution_count": 4,
   "metadata": {},
   "outputs": [],
   "source": [
    " cancer=load_breast_cancer()"
   ]
  },
  {
   "cell_type": "code",
   "execution_count": 5,
   "metadata": {},
   "outputs": [
    {
     "data": {
      "text/plain": [
       "dict_keys(['data', 'target', 'frame', 'target_names', 'DESCR', 'feature_names', 'filename'])"
      ]
     },
     "execution_count": 5,
     "metadata": {},
     "output_type": "execute_result"
    }
   ],
   "source": [
    "cancer.keys()"
   ]
  },
  {
   "cell_type": "code",
   "execution_count": 6,
   "metadata": {},
   "outputs": [],
   "source": [
    "df=pd.DataFrame(cancer['data'],columns=cancer['feature_names'])"
   ]
  },
  {
   "cell_type": "code",
   "execution_count": 7,
   "metadata": {},
   "outputs": [
    {
     "data": {
      "text/html": [
       "<div>\n",
       "<style scoped>\n",
       "    .dataframe tbody tr th:only-of-type {\n",
       "        vertical-align: middle;\n",
       "    }\n",
       "\n",
       "    .dataframe tbody tr th {\n",
       "        vertical-align: top;\n",
       "    }\n",
       "\n",
       "    .dataframe thead th {\n",
       "        text-align: right;\n",
       "    }\n",
       "</style>\n",
       "<table border=\"1\" class=\"dataframe\">\n",
       "  <thead>\n",
       "    <tr style=\"text-align: right;\">\n",
       "      <th></th>\n",
       "      <th>mean radius</th>\n",
       "      <th>mean texture</th>\n",
       "      <th>mean perimeter</th>\n",
       "      <th>mean area</th>\n",
       "      <th>mean smoothness</th>\n",
       "      <th>mean compactness</th>\n",
       "      <th>mean concavity</th>\n",
       "      <th>mean concave points</th>\n",
       "      <th>mean symmetry</th>\n",
       "      <th>mean fractal dimension</th>\n",
       "      <th>...</th>\n",
       "      <th>worst radius</th>\n",
       "      <th>worst texture</th>\n",
       "      <th>worst perimeter</th>\n",
       "      <th>worst area</th>\n",
       "      <th>worst smoothness</th>\n",
       "      <th>worst compactness</th>\n",
       "      <th>worst concavity</th>\n",
       "      <th>worst concave points</th>\n",
       "      <th>worst symmetry</th>\n",
       "      <th>worst fractal dimension</th>\n",
       "    </tr>\n",
       "  </thead>\n",
       "  <tbody>\n",
       "    <tr>\n",
       "      <th>0</th>\n",
       "      <td>17.99</td>\n",
       "      <td>10.38</td>\n",
       "      <td>122.80</td>\n",
       "      <td>1001.0</td>\n",
       "      <td>0.11840</td>\n",
       "      <td>0.27760</td>\n",
       "      <td>0.3001</td>\n",
       "      <td>0.14710</td>\n",
       "      <td>0.2419</td>\n",
       "      <td>0.07871</td>\n",
       "      <td>...</td>\n",
       "      <td>25.38</td>\n",
       "      <td>17.33</td>\n",
       "      <td>184.60</td>\n",
       "      <td>2019.0</td>\n",
       "      <td>0.1622</td>\n",
       "      <td>0.6656</td>\n",
       "      <td>0.7119</td>\n",
       "      <td>0.2654</td>\n",
       "      <td>0.4601</td>\n",
       "      <td>0.11890</td>\n",
       "    </tr>\n",
       "    <tr>\n",
       "      <th>1</th>\n",
       "      <td>20.57</td>\n",
       "      <td>17.77</td>\n",
       "      <td>132.90</td>\n",
       "      <td>1326.0</td>\n",
       "      <td>0.08474</td>\n",
       "      <td>0.07864</td>\n",
       "      <td>0.0869</td>\n",
       "      <td>0.07017</td>\n",
       "      <td>0.1812</td>\n",
       "      <td>0.05667</td>\n",
       "      <td>...</td>\n",
       "      <td>24.99</td>\n",
       "      <td>23.41</td>\n",
       "      <td>158.80</td>\n",
       "      <td>1956.0</td>\n",
       "      <td>0.1238</td>\n",
       "      <td>0.1866</td>\n",
       "      <td>0.2416</td>\n",
       "      <td>0.1860</td>\n",
       "      <td>0.2750</td>\n",
       "      <td>0.08902</td>\n",
       "    </tr>\n",
       "    <tr>\n",
       "      <th>2</th>\n",
       "      <td>19.69</td>\n",
       "      <td>21.25</td>\n",
       "      <td>130.00</td>\n",
       "      <td>1203.0</td>\n",
       "      <td>0.10960</td>\n",
       "      <td>0.15990</td>\n",
       "      <td>0.1974</td>\n",
       "      <td>0.12790</td>\n",
       "      <td>0.2069</td>\n",
       "      <td>0.05999</td>\n",
       "      <td>...</td>\n",
       "      <td>23.57</td>\n",
       "      <td>25.53</td>\n",
       "      <td>152.50</td>\n",
       "      <td>1709.0</td>\n",
       "      <td>0.1444</td>\n",
       "      <td>0.4245</td>\n",
       "      <td>0.4504</td>\n",
       "      <td>0.2430</td>\n",
       "      <td>0.3613</td>\n",
       "      <td>0.08758</td>\n",
       "    </tr>\n",
       "    <tr>\n",
       "      <th>3</th>\n",
       "      <td>11.42</td>\n",
       "      <td>20.38</td>\n",
       "      <td>77.58</td>\n",
       "      <td>386.1</td>\n",
       "      <td>0.14250</td>\n",
       "      <td>0.28390</td>\n",
       "      <td>0.2414</td>\n",
       "      <td>0.10520</td>\n",
       "      <td>0.2597</td>\n",
       "      <td>0.09744</td>\n",
       "      <td>...</td>\n",
       "      <td>14.91</td>\n",
       "      <td>26.50</td>\n",
       "      <td>98.87</td>\n",
       "      <td>567.7</td>\n",
       "      <td>0.2098</td>\n",
       "      <td>0.8663</td>\n",
       "      <td>0.6869</td>\n",
       "      <td>0.2575</td>\n",
       "      <td>0.6638</td>\n",
       "      <td>0.17300</td>\n",
       "    </tr>\n",
       "    <tr>\n",
       "      <th>4</th>\n",
       "      <td>20.29</td>\n",
       "      <td>14.34</td>\n",
       "      <td>135.10</td>\n",
       "      <td>1297.0</td>\n",
       "      <td>0.10030</td>\n",
       "      <td>0.13280</td>\n",
       "      <td>0.1980</td>\n",
       "      <td>0.10430</td>\n",
       "      <td>0.1809</td>\n",
       "      <td>0.05883</td>\n",
       "      <td>...</td>\n",
       "      <td>22.54</td>\n",
       "      <td>16.67</td>\n",
       "      <td>152.20</td>\n",
       "      <td>1575.0</td>\n",
       "      <td>0.1374</td>\n",
       "      <td>0.2050</td>\n",
       "      <td>0.4000</td>\n",
       "      <td>0.1625</td>\n",
       "      <td>0.2364</td>\n",
       "      <td>0.07678</td>\n",
       "    </tr>\n",
       "  </tbody>\n",
       "</table>\n",
       "<p>5 rows × 30 columns</p>\n",
       "</div>"
      ],
      "text/plain": [
       "   mean radius  mean texture  mean perimeter  mean area  mean smoothness  \\\n",
       "0        17.99         10.38          122.80     1001.0          0.11840   \n",
       "1        20.57         17.77          132.90     1326.0          0.08474   \n",
       "2        19.69         21.25          130.00     1203.0          0.10960   \n",
       "3        11.42         20.38           77.58      386.1          0.14250   \n",
       "4        20.29         14.34          135.10     1297.0          0.10030   \n",
       "\n",
       "   mean compactness  mean concavity  mean concave points  mean symmetry  \\\n",
       "0           0.27760          0.3001              0.14710         0.2419   \n",
       "1           0.07864          0.0869              0.07017         0.1812   \n",
       "2           0.15990          0.1974              0.12790         0.2069   \n",
       "3           0.28390          0.2414              0.10520         0.2597   \n",
       "4           0.13280          0.1980              0.10430         0.1809   \n",
       "\n",
       "   mean fractal dimension  ...  worst radius  worst texture  worst perimeter  \\\n",
       "0                 0.07871  ...         25.38          17.33           184.60   \n",
       "1                 0.05667  ...         24.99          23.41           158.80   \n",
       "2                 0.05999  ...         23.57          25.53           152.50   \n",
       "3                 0.09744  ...         14.91          26.50            98.87   \n",
       "4                 0.05883  ...         22.54          16.67           152.20   \n",
       "\n",
       "   worst area  worst smoothness  worst compactness  worst concavity  \\\n",
       "0      2019.0            0.1622             0.6656           0.7119   \n",
       "1      1956.0            0.1238             0.1866           0.2416   \n",
       "2      1709.0            0.1444             0.4245           0.4504   \n",
       "3       567.7            0.2098             0.8663           0.6869   \n",
       "4      1575.0            0.1374             0.2050           0.4000   \n",
       "\n",
       "   worst concave points  worst symmetry  worst fractal dimension  \n",
       "0                0.2654          0.4601                  0.11890  \n",
       "1                0.1860          0.2750                  0.08902  \n",
       "2                0.2430          0.3613                  0.08758  \n",
       "3                0.2575          0.6638                  0.17300  \n",
       "4                0.1625          0.2364                  0.07678  \n",
       "\n",
       "[5 rows x 30 columns]"
      ]
     },
     "execution_count": 7,
     "metadata": {},
     "output_type": "execute_result"
    }
   ],
   "source": [
    "df.head()"
   ]
  },
  {
   "cell_type": "code",
   "execution_count": 8,
   "metadata": {},
   "outputs": [],
   "source": [
    "from sklearn.preprocessing import StandardScaler"
   ]
  },
  {
   "cell_type": "code",
   "execution_count": 9,
   "metadata": {},
   "outputs": [],
   "source": [
    "scaler=StandardScaler()"
   ]
  },
  {
   "cell_type": "code",
   "execution_count": 10,
   "metadata": {},
   "outputs": [
    {
     "data": {
      "text/plain": [
       "StandardScaler()"
      ]
     },
     "execution_count": 10,
     "metadata": {},
     "output_type": "execute_result"
    }
   ],
   "source": [
    "scaler.fit(df)"
   ]
  },
  {
   "cell_type": "code",
   "execution_count": 11,
   "metadata": {},
   "outputs": [],
   "source": [
    "scaled_data=scaler.transform(df)"
   ]
  },
  {
   "cell_type": "code",
   "execution_count": 12,
   "metadata": {},
   "outputs": [],
   "source": [
    "from sklearn.decomposition import PCA"
   ]
  },
  {
   "cell_type": "code",
   "execution_count": 13,
   "metadata": {},
   "outputs": [],
   "source": [
    "pca=PCA(n_components=2)"
   ]
  },
  {
   "cell_type": "code",
   "execution_count": 14,
   "metadata": {},
   "outputs": [
    {
     "data": {
      "text/plain": [
       "PCA(n_components=2)"
      ]
     },
     "execution_count": 14,
     "metadata": {},
     "output_type": "execute_result"
    }
   ],
   "source": [
    "pca.fit(scaled_data)"
   ]
  },
  {
   "cell_type": "code",
   "execution_count": 15,
   "metadata": {},
   "outputs": [],
   "source": [
    "x_pca=pca.transform(scaled_data)"
   ]
  },
  {
   "cell_type": "code",
   "execution_count": 16,
   "metadata": {},
   "outputs": [
    {
     "data": {
      "text/plain": [
       "(569, 30)"
      ]
     },
     "execution_count": 16,
     "metadata": {},
     "output_type": "execute_result"
    }
   ],
   "source": [
    "scaled_data.shape"
   ]
  },
  {
   "cell_type": "code",
   "execution_count": 20,
   "metadata": {},
   "outputs": [
    {
     "data": {
      "text/plain": [
       "array([ 1.94858307e+00, -3.76817174e+00, -1.07517380e+00,  1.02755891e+01,\n",
       "       -1.94807157e+00,  3.94992890e+00, -2.69003128e+00,  2.34024401e+00,\n",
       "        3.39181295e+00,  7.72717407e+00, -2.65927550e+00,  6.65679266e-02,\n",
       "        2.70097649e+00, -9.68279261e-01,  4.86108331e+00,  2.97706118e+00,\n",
       "       -1.56475773e+00,  1.41867033e+00, -4.11433352e+00, -1.88214954e-01,\n",
       "        5.72808193e-01,  1.66294990e+00,  3.30496373e+00, -5.12836651e+00,\n",
       "       -1.54375229e+00,  2.01861034e+00,  2.17162512e+00, -1.87655235e+00,\n",
       "        5.37242161e-01, -1.52370502e+00, -7.57177451e-01,  4.00529551e+00,\n",
       "        3.37536154e-01, -1.13258891e+00,  7.58423243e-01, -3.54355942e-01,\n",
       "        9.13196276e-01, -1.41347312e+00, -3.35129292e+00,  8.86243953e-01,\n",
       "       -1.92399162e+00,  2.26075201e+00,  2.01867310e+00,  9.84930020e-01,\n",
       "       -1.37099091e-01, -1.34876978e-01,  1.48422032e+00,  2.35227179e+00,\n",
       "        9.58296095e-02, -1.20843321e+00, -1.28249558e+00, -1.68895860e+00,\n",
       "       -4.98218714e-01, -1.13093780e+00, -2.11640972e+00,  1.52723136e-01,\n",
       "       -2.31033257e+00,  9.72116046e-01, -1.78764165e+00,  2.40379249e+00,\n",
       "        2.75765813e+00,  3.13867192e+00,  3.01168051e+00,  3.26798968e+00,\n",
       "        1.54067656e+00,  7.22740191e-01,  2.31064871e+00, -6.58309469e-01,\n",
       "        9.20252569e+00, -9.37838120e-01, -4.43714177e+00,  7.38781218e+00,\n",
       "        9.38325415e-01,  1.19739086e-01, -6.97309369e-01, -1.96710141e+00,\n",
       "        1.96560486e+00,  9.20069543e-01,  4.74861720e+00, -2.54899834e-01,\n",
       "        1.71594911e+00,  2.51451585e+00, -2.25798290e+00,  7.74409156e-01,\n",
       "        4.96877985e-01, -1.66823706e+00,  1.62214525e-01, -2.20666184e+00,\n",
       "        9.27701481e-01,  1.01557707e+00, -1.61965683e+00, -5.31351547e-01,\n",
       "       -2.89364760e+00, -9.65156988e-01,  5.58000527e-01, -2.12350771e+00,\n",
       "        2.13633930e-01,  1.19006663e+00,  3.67883981e-01,  6.38911669e-01,\n",
       "       -1.39204430e+00,  3.52878602e+00, -1.42462246e+00,  1.84937361e+00,\n",
       "        1.42006174e+00,  4.04675622e+00,  1.79763852e+00, -1.03574943e+00,\n",
       "        9.81513226e-01,  6.67410636e-01,  2.59868627e+00,  2.28014354e+00,\n",
       "        3.92633316e+00,  3.55622510e+00,  3.25131950e+00,  3.04884867e-01,\n",
       "        3.66709588e+00,  1.56938956e+00,  2.38484622e+00, -2.30673537e+00,\n",
       "        3.71506482e-01, -1.32555735e+00,  2.31662246e+00, -6.41092200e-02,\n",
       "       -7.35605230e-01, -1.87740903e+00, -9.11366029e-01, -3.53808237e+00,\n",
       "        1.30492941e+00, -1.48201717e+00,  1.42323064e+00, -1.04960395e+00,\n",
       "       -1.15414147e+00, -1.56823232e+00, -2.82626073e+00, -4.19387447e-01,\n",
       "       -4.82335467e-01, -4.18321406e-01,  8.60381598e-01,  1.32935517e+00,\n",
       "        5.74699979e-01, -1.27477096e+00,  8.98455292e-01, -9.10267655e-02,\n",
       "       -8.93572266e-01,  3.70218238e+00,  4.83798882e+00,  1.08306806e+00,\n",
       "       -3.89631317e-01, -2.23778452e+00,  3.05870449e-01,  7.15035980e+00,\n",
       "        1.25731942e+01,  2.50501527e-01,  9.44944302e-01,  5.55241299e-03,\n",
       "       -3.78803820e-01, -3.07064866e+00, -6.74648742e-01, -1.10385725e+00,\n",
       "        1.78565088e+00, -2.91103711e+00, -2.01765275e+00,  1.46929402e+00,\n",
       "       -4.16582931e+00, -2.73886105e+00,  6.87228128e-03, -2.03903896e+00,\n",
       "       -1.78515233e+00, -1.84277942e+00,  1.14252299e-01, -1.68475355e+00,\n",
       "        1.26510313e+00,  1.61969198e+00, -2.22914815e-01,  1.02675786e+00,\n",
       "        7.01448658e+00,  7.06421852e-01, -3.38620487e+00, -1.24616617e+00,\n",
       "       -5.60348419e+00,  5.81031077e-01, -1.60853258e+00,  5.39935801e-01,\n",
       "       -9.89242353e-01,  8.16071711e-01, -3.57446123e+00, -3.98729694e-01,\n",
       "        1.55741195e-01, -1.10373242e+00,  8.01116961e+00, -5.43165527e-01,\n",
       "       -4.77847579e-01,  2.77658717e+00,  1.56142171e+00, -9.70110567e-01,\n",
       "        2.27848285e+00, -2.44325896e+00, -2.27784891e+00,  3.82393264e-01,\n",
       "        1.16890257e-01, -2.10229107e+00, -6.55172825e-01,  3.08663916e+00,\n",
       "        6.52849259e-01, -7.01821490e-01,  1.30693872e+00, -2.78770774e+00,\n",
       "        2.07756073e+00, -2.47278779e+00, -3.02910297e+00, -3.96778028e-01,\n",
       "       -7.54341017e+00,  2.58782543e+00,  2.61464848e+00,  2.15447950e+00,\n",
       "        2.27679789e+00,  1.08683469e+00, -2.84832446e+00, -4.66627518e+00,\n",
       "       -7.33402564e-01,  4.38438182e-01,  1.81097378e+00,  1.66460957e-01,\n",
       "       -1.41857645e+00, -1.25024747e+00,  5.38570744e-01, -6.14415470e-01,\n",
       "       -2.01726757e-01,  3.46577360e+00, -1.25200492e-01, -1.35424738e+00,\n",
       "       -1.29162906e+00, -3.93915226e+00,  1.16254611e+00, -1.34897973e+00,\n",
       "       -4.15390478e+00, -3.95117295e+00, -1.13599113e+00, -2.15457003e+00,\n",
       "       -1.21499969e+00, -1.74112936e+00,  4.78947658e+00, -1.58412815e+00,\n",
       "       -1.02623264e+00,  2.07768598e+00, -1.17207348e+00,  2.36126194e+00,\n",
       "        7.29213114e-01,  4.60596403e-01, -2.07484223e+00, -6.49468800e-01,\n",
       "        5.28223172e-01, -1.77542583e+00, -2.80747711e+00,  3.94166289e-01,\n",
       "       -1.82309416e+00,  3.89453099e+00,  3.27987737e+00,  1.06564607e+00,\n",
       "       -3.37122789e+00, -3.50008503e+00, -9.90673201e-01, -3.12194581e+00,\n",
       "       -2.47457335e+00, -6.00327642e+00,  1.68663181e+00, -1.10348656e+00,\n",
       "        9.49363920e-03,  3.15252061e+00, -3.16927259e+00,  4.10301795e-01,\n",
       "       -3.07530630e+00,  1.58958706e+00, -3.14437346e+00,  8.49052983e-01,\n",
       "       -3.21978057e-01, -3.45934329e+00, -2.63408240e+00, -9.02064210e-01,\n",
       "       -1.34112305e+00, -1.38026264e-01, -1.90190742e+00,  5.77154996e-01,\n",
       "        5.80546143e-03, -1.37650824e+00,  1.69500962e+00, -1.97848613e+00,\n",
       "        3.72343400e+00,  3.54160227e-01,  4.27345956e+00, -8.08576571e-01,\n",
       "        1.39397811e+00, -2.68644509e-01, -8.07600615e-01, -1.44217623e+00,\n",
       "       -5.42961860e-01, -8.24115571e-01, -2.53303400e+00,  7.53963957e-01,\n",
       "       -1.48486245e+00,  5.91942868e-01,  5.51460602e-02,  8.91582992e-01,\n",
       "       -1.79213386e-01, -3.06058435e-01, -1.52472642e+00,  5.56255505e-01,\n",
       "       -3.06538743e+00, -2.54290704e+00, -6.85630478e-02, -3.13870939e+00,\n",
       "       -4.39284864e-03, -2.40698054e-01,  4.39820049e+00, -2.33921479e+00,\n",
       "       -1.79840198e+00, -2.39223800e+00,  6.50909931e+00, -1.40220646e+00,\n",
       "        3.47080864e+00, -4.32152296e+00,  3.96207302e-01, -3.57017971e-02,\n",
       "       -7.42526542e-01, -4.64731625e-01, -1.77124840e+00, -1.83561836e+00,\n",
       "       -3.48535940e-01,  1.12197394e+00, -2.69221636e-01,  1.26587162e+00,\n",
       "        1.10344314e+00, -7.61103730e-01, -9.09918555e-01, -1.57705284e+00,\n",
       "        9.90030778e-01, -9.68592954e-01,  1.13583757e+00, -5.24262314e+00,\n",
       "        2.26935036e-01,  2.54498811e+00,  1.80651949e+00, -1.33257218e+00,\n",
       "        9.58911259e-01,  3.44720387e+00, -5.62928898e-01, -1.31704434e+00,\n",
       "        4.75171582e-01,  1.46146980e+00, -1.35691746e+00,  5.10800545e+00,\n",
       "       -3.70325408e+00,  2.96629070e-01,  2.43759976e-01,  7.97252394e-01,\n",
       "        2.12783863e+00, -1.84915207e+00,  1.63139221e+00,  5.79339442e-01,\n",
       "       -2.76112710e+00, -1.18893940e+00, -2.50744790e-01, -2.12434343e+00,\n",
       "       -1.48802216e+00, -3.94516823e+00, -1.39010969e+00, -3.57160711e-01,\n",
       "       -6.72341498e+00, -3.65546913e+00,  1.17624288e+00, -2.01853563e+00,\n",
       "       -1.95644091e+00, -3.85860712e+00, -1.10247446e+00, -1.29847583e-01,\n",
       "        6.42681984e+00, -2.18209570e+00,  2.92596222e-01,  5.98529535e+00,\n",
       "        2.30248143e+00,  2.01311336e-01,  9.79857729e-01,  2.16121269e+00,\n",
       "       -9.32077584e-01, -1.31706791e+00,  3.20435146e-01, -2.44551841e+00,\n",
       "        3.70282944e+00, -1.95955755e-01,  7.86859916e-01,  2.60508722e+00,\n",
       "        7.67488844e-01, -8.60484151e-01,  4.29689561e-01, -1.70047247e+00,\n",
       "        1.06731465e-01, -6.51393880e-01, -3.26146367e-01, -2.19665742e-01,\n",
       "        2.03654740e+00, -9.92610035e-01, -2.93326463e-01, -3.35047026e-01,\n",
       "       -1.24136513e+00,  6.82741317e-01, -1.96217149e+00,  3.69573902e-01,\n",
       "       -1.07863351e+00, -1.75848508e-01, -4.94856229e-01,  3.77332257e-01,\n",
       "        9.59856090e-01, -4.38008228e-01, -2.10594559e+00,  8.92466690e-01,\n",
       "        2.50210162e+00, -9.10292221e-02, -9.21268109e-03, -2.22247305e-02,\n",
       "        7.78452131e-01,  2.31604805e+00,  8.62318853e-01,  1.13612659e-01,\n",
       "        2.54122965e+00, -4.32302431e-01,  2.55090931e+00,  4.02031477e-01,\n",
       "       -7.82298756e-01, -2.03001629e+00,  3.00606413e+00,  2.47901313e+00,\n",
       "       -8.16000506e-01, -9.92438898e-01, -1.80535324e+00,  4.36860856e-01,\n",
       "       -4.54589511e-01, -1.19479691e+00, -1.83206043e+00, -2.23514270e+00,\n",
       "        2.18499883e+00, -1.49982475e+00, -2.13646155e+00,  7.30775970e-01,\n",
       "       -2.21042995e+00,  1.06769151e+00, -1.77835863e+00, -1.03792711e+00,\n",
       "       -1.58883879e+00, -4.04933242e+00,  1.80361816e+00, -2.52880758e+00,\n",
       "        2.98912881e-02, -4.74839505e-01, -1.01812581e+00, -1.57139312e+00,\n",
       "        7.77095661e-01, -1.66630163e+00, -2.07573362e+00, -4.84710079e-01,\n",
       "       -1.67288439e+00, -7.77585280e+00, -2.49404545e+00, -6.88471357e-02,\n",
       "       -1.79391877e+00,  2.11001135e+00,  1.16519697e-01,  8.99178649e-01,\n",
       "        1.22829668e+00,  3.42601142e+00,  1.44355553e+00, -9.03255929e-01,\n",
       "       -1.77222625e+00, -1.24685415e+00,  1.89946255e+00, -2.06371137e-01,\n",
       "       -9.73367811e-01, -2.08905230e+00,  1.28603932e+00,  2.30523632e+00,\n",
       "       -6.73339244e-01, -2.36395876e+00,  5.09833848e-01, -1.29870449e+00,\n",
       "       -2.27383393e-01,  4.38913433e+00, -2.46684076e+00, -1.48942356e+00,\n",
       "        9.98177835e-01, -2.45203497e+00, -9.77944319e-01, -4.55566412e+00,\n",
       "       -1.23615321e+00, -5.60954222e-01, -1.07788813e+00, -1.59109420e+00,\n",
       "        1.51590342e+00, -7.63900485e-01, -1.05868622e+00, -2.01920783e+00,\n",
       "       -8.38454663e-01,  3.38556077e+00,  1.50577059e+00, -5.49573572e+00,\n",
       "        7.72985280e+00,  8.29477545e+00,  1.59568385e+00,  4.11718668e+00,\n",
       "       -1.66569374e+00,  2.80292725e+00,  1.67219174e+00, -2.16104880e+00,\n",
       "        1.94163476e+00, -1.41100197e+00, -1.94369718e+00,  7.90146607e-01,\n",
       "       -1.94370995e+00, -2.33342894e+00,  1.07636000e+00,  1.01137018e+00,\n",
       "        4.96422470e+00, -3.45945192e+00, -7.86036036e-01,  6.36349270e-01,\n",
       "        1.28592516e+00,  2.67330060e+00,  9.68485226e-02, -8.71542624e-01,\n",
       "        1.54122528e+00,  6.00847969e-01,  4.05217789e-01,  8.04210012e-01,\n",
       "       -1.48470890e+00, -2.94143010e+00,  1.51858064e+00, -2.38220323e+00,\n",
       "        3.80715146e-01,  3.53448105e+00,  2.36739228e+00,  5.59945847e+00,\n",
       "        2.38961812e+00,  1.09238965e+00, -1.82141530e+00, -1.68157624e+00,\n",
       "       -2.13962740e-01, -1.13773992e+00,  1.84272497e-01,  2.31579282e+00,\n",
       "        4.96249929e-01,  2.28329957e-01, -7.67477944e-01,  1.26124190e+00,\n",
       "       -1.45163576e+00,  1.80083249e+00, -8.30068818e-01,  1.61645927e+00,\n",
       "        1.08425474e+00,  1.22168435e-01, -2.13559838e-01,  1.29284790e+00,\n",
       "       -1.78019691e-01, -2.13110611e+00,  3.48263666e+00, -5.73854672e-01,\n",
       "       -3.57681744e+00, -3.58404786e+00, -1.90229671e+00,  1.67201011e+00,\n",
       "       -6.70636791e-01])"
      ]
     },
     "execution_count": 20,
     "metadata": {},
     "output_type": "execute_result"
    }
   ],
   "source": [
    "x_pca[:,1]"
   ]
  },
  {
   "cell_type": "code",
   "execution_count": 21,
   "metadata": {},
   "outputs": [
    {
     "data": {
      "text/plain": [
       "Text(0, 0.5, 'Second Pricipal Componenet')"
      ]
     },
     "execution_count": 21,
     "metadata": {},
     "output_type": "execute_result"
    },
    {
     "data": {
      "image/png": "[encoded data removed]",
      "text/plain": [
       "<Figure size 576x432 with 1 Axes>"
      ]
     },
     "metadata": {
      "needs_background": "light"
     },
     "output_type": "display_data"
    }
   ],
   "source": [
    "plt.figure(figsize=(8,6))\n",
    "plt.scatter(x_pca[:,0],x_pca[:,1],c=cancer['target'])\n",
    "plt.xlabel('First Pricipal Componenet')\n",
    "plt.ylabel('Second Pricipal Componenet')"
   ]
  },
  {
   "cell_type": "code",
   "execution_count": 22,
   "metadata": {},
   "outputs": [
    {
     "data": {
      "text/plain": [
       "array([[ 0.21890244,  0.10372458,  0.22753729,  0.22099499,  0.14258969,\n",
       "         0.23928535,  0.25840048,  0.26085376,  0.13816696,  0.06436335,\n",
       "         0.20597878,  0.01742803,  0.21132592,  0.20286964,  0.01453145,\n",
       "         0.17039345,  0.15358979,  0.1834174 ,  0.04249842,  0.10256832,\n",
       "         0.22799663,  0.10446933,  0.23663968,  0.22487053,  0.12795256,\n",
       "         0.21009588,  0.22876753,  0.25088597,  0.12290456,  0.13178394],\n",
       "       [-0.23385713, -0.05970609, -0.21518136, -0.23107671,  0.18611302,\n",
       "         0.15189161,  0.06016536, -0.0347675 ,  0.19034877,  0.36657547,\n",
       "        -0.10555215,  0.08997968, -0.08945723, -0.15229263,  0.20443045,\n",
       "         0.2327159 ,  0.19720728,  0.13032156,  0.183848  ,  0.28009203,\n",
       "        -0.21986638, -0.0454673 , -0.19987843, -0.21935186,  0.17230435,\n",
       "         0.14359317,  0.09796411, -0.00825724,  0.14188335,  0.27533947]])"
      ]
     },
     "execution_count": 22,
     "metadata": {},
     "output_type": "execute_result"
    }
   ],
   "source": [
    "pca.components_"
   ]
  },
  {
   "cell_type": "code",
   "execution_count": 25,
   "metadata": {},
   "outputs": [],
   "source": [
    "df_comp=pd.DataFrame(pca.components_,columns=cancer['feature_names'])"
   ]
  },
  {
   "cell_type": "code",
   "execution_count": 28,
   "metadata": {},
   "outputs": [
    {
     "data": {
      "text/plain": [
       "<AxesSubplot:>"
      ]
     },
     "execution_count": 28,
     "metadata": {},
     "output_type": "execute_result"
    },
    {
     "data": {
      "image/png": "[encoded data removed]",
      "text/plain": [
       "<Figure size 720x432 with 2 Axes>"
      ]
     },
     "metadata": {
      "needs_background": "light"
     },
     "output_type": "display_data"
    }
   ],
   "source": [
    "plt.figure(figsize=(10,6))\n",
    "sns.heatmap(df_comp,)"
   ]
  },
  {
   "cell_type": "code",
   "execution_count": 38,
   "metadata": {},
   "outputs": [
    {
     "data": {
      "text/plain": [
       "0.21890244370000325"
      ]
     },
     "execution_count": 38,
     "metadata": {},
     "output_type": "execute_result"
    }
   ],
   "source": [
    "df_comp.iloc[0][0]"
   ]
  },
  {
   "cell_type": "code",
   "execution_count": 57,
   "metadata": {},
   "outputs": [
    {
     "name": "stdout",
     "output_type": "stream",
     "text": [
      "[793.3646735295663, 831.3763042642884, 751.1118001331057, 271.9737414715103, 741.2488582478696, 332.42224650858327, 680.7126506697088, 399.80399516559055, 344.10171024264065, 326.49924691630076, 510.4740264845601, 545.719784576038, 655.0835647528806, 441.2921940992496, 348.92024576917925, 430.8743900160326, 481.12272587881125, 555.4075972718923, 932.2334709193888, 344.0565861231677, 312.47159758152003, 171.685427794774, 450.67727390068, 1011.9132121206713, 802.7274709006058, 630.3771096360373, 413.6010925562006, 652.7638487085999, 530.521122317006, 570.9466575342705, 721.0978709231446, 364.239870433524, 588.4321425629048, 762.7429343207749, 538.7147500654586, 549.0571144434222, 386.81152985749924, 290.8190500321847, 391.4984594187747, 351.54309921418275, 362.24607903804537, 250.11348328590938, 726.1898290663814, 390.39008557876406, 344.055898649059, 683.4493771162984, 134.4056091853203, 349.9902666779079, 283.56335697931956, 341.17005008814084, 264.40015646437115, 330.5733679211829, 266.11138250069115, 619.4824815021262, 459.0303183032005, 255.50978749582922, 843.1955680650367, 437.90480089439654, 314.8909804112215, 147.01318026487536, 199.1883945413574, 151.38653817059122, 435.34911798300175, 169.81739274025543, 376.5009807384646, 426.3216405125358, 176.89687940033355, 240.9253362344271, 170.5681265311067, 288.53585163445763, 772.6692535403068, 159.62832030046803, 676.0397448923205, 374.6306152512996, 295.4487213023459, 540.154687861879, 317.5137953181118, 689.3633161890783, 755.104407318196, 307.80749939544125, 260.42702980353675, 309.78149166593107, 1125.5147130184987, 635.2325327259914, 277.8424359788464, 693.5948451043942, 393.44278702044335, 695.1226898159168, 288.45082310047343, 392.8379554331226, 393.0968821390448, 415.00277577505415, 371.4552080511176, 339.6200023851472, 461.46884169001237, 774.9764113939915, 263.5627879383216, 192.0362262349879, 255.43300372221208, 393.79198172096875, 401.2589632631398, 104.58159474849845, 276.88625110091675, 191.28714366834902, 212.60770497232585, 366.9387955977975, 261.37636475415826, 276.57671074445255, 1001.9303021008064, 255.21455990369697, 192.06797642682872, 280.27971775501084, 364.66716832473975, 205.00602301964716, 153.1866055308829, 282.6289592210018, 155.24985269592295, 471.3101865382968, 540.8730022150273, 582.8403786280134, 251.30712718948416, 681.8404160903149, 1002.1884590648681, 370.2632358194924, 319.65676532911857, 352.19045413421037, 382.0596925646896, 692.4578846166245, 388.0015531462757, 715.2854722496289, 275.7223922225601, 501.6126277769998, 521.5011773073845, 443.4275514577241, 686.8102076945884, 315.81625926615305, 271.9193116724648, 240.08231482810288, 453.76639821856196, 231.64480035897287, 180.740556583547, 540.4358708991591, 252.4474273220453, 314.1496259663383, 224.69159207210942, 263.3521118108276, 284.5501442198297, 402.7693511042468, 376.57083448584854, 351.2356966630275, 312.6954128375863, 139.09105311641088, 203.35896490305572, 229.60815002872633, 329.3048095807268, 281.15038038190966, 598.07775394806, 503.0755430959217, 268.3840336396793, 233.65752649673317, 272.9047164788402, 694.2663588866493, 877.7916959698175, 282.086503890222, 1029.2851292722921, 389.8824977896821, 215.26708835970805, 562.936169034777, 696.1624686703531, 393.42821970585356, 277.4352892007254, 417.55774130426107, 484.4989669359734, 217.23720674278525, 215.43714113332075, 144.77140398511548, 202.47379210262935, 479.06065415113886, 307.430425873331, 293.7456500202626, 1361.4187382306384, 868.9873294303537, 531.2272787988454, 243.40588482274967, 442.5981480794465, 215.6614480839513, 627.2457646766754, 260.9478723671874, 254.24656701897922, 277.6335652363021, 373.6016568893346, 305.10452380975846, 174.1217878621939, 342.21186922286716, 394.40743392830944, 303.2274725949503, 382.9380836351992, 589.8643305559602, 729.2479304370389, 443.54886705174806, 302.44150043660676, 570.7134893114794, 932.6840058395106, 469.07406998049277, 317.85082720406245, 448.6040492544893, 181.88179617635862, 555.7793078293846, 319.5026128444396, 434.3222220726924, 765.3538349114937, 269.04064116302465, 1330.4239415342502, 520.310269252469, 386.4092105979185, 358.74808048844693, 268.5442388949319, 209.17070160637763, 836.0644179657894, 941.6652344138827, 341.8039711999892, 337.2119942561366, 198.15650285817955, 486.74147470899663, 339.0915402038208, 406.3320156054, 205.77122957488208, 397.789920403064, 306.2135075061949, 332.2367291739818, 542.8591366040921, 238.1267366787626, 242.85417228679708, 813.9030083247229, 177.78444225566514, 354.9605370394128, 1167.2184169546013, 784.0279662946162, 375.75573200660205, 608.1122816962419, 339.19119121909205, 276.818794051145, 244.42948139594264, 353.1550602903765, 666.033083258381, 213.45662065857246, 309.0983470936823, 314.9175836830026, 228.49267318103395, 249.95162603629493, 869.9334439122268, 256.87623625853104, 804.0847000424783, 557.0508478788321, 799.6238705418585, 384.38818900116996, 813.0701366112609, 443.5151253464788, 550.5841271404609, 472.80653663500806, 796.5054623745339, 559.5668416717214, 593.209196748853, 458.0817768134321, 611.0257165059761, 1229.7607502420701, 222.3822394261599, 333.7274124468418, 301.9092546947221, 217.2775416158198, 349.5980264410908, 235.0978113086366, 996.2627075796212, 186.38770844180613, 600.8710988346846, 258.99998338740176, 238.00044247486386, 601.0859861719565, 351.891467943044, 338.935884532131, 737.5057031399346, 269.1360593586544, 710.6629084496423, 483.69753633236826, 304.32692475911955, 288.60031987884497, 275.9449303038708, 295.00714865720465, 238.45179224845293, 240.22188853261972, 390.5694824138326, 399.47198112365317, 299.001502279498, 262.6548867476354, 285.174964628681, 333.40000933850456, 211.9594353459882, 278.0898671583197, 386.17353596260483, 201.83353399481135, 844.7468053647875, 284.20756555535894, 769.4860657985549, 202.07318064271786, 250.54753357600796, 251.1016386389395, 316.41122067163826, 156.05453116042995, 338.42059371217795, 326.44491703814833, 250.1916963302742, 398.9953850123247, 306.122301454569, 241.7779535351854, 141.13837677492725, 279.3561922909686, 266.7080524877089, 645.7171859067777, 165.7398032052171, 275.3458215162054, 205.4822887093114, 750.0917495527377, 300.8070627703543, 817.9278825369439, 285.7908650193343, 290.9726410797324, 363.9109809500985, 266.8891756844129, 510.4392010486583, 478.7360459562258, 488.9350639385549, 314.4953445138339, 232.82332786057714, 245.43833927980785, 276.5870433292484, 602.3277375645345, 295.6115061513317, 763.5731432173083, 200.18887144041582, 1175.9495334123485, 401.8142985906347, 184.27279309798857, 228.30368155454175, 707.8584695352528, 260.81699435946933, 196.25371398287774, 277.6098923992071, 411.8088965179389, 243.61783843856526, 258.2955172306096, 266.9770638233014, 449.93140955388304, 1316.2720827630176, 473.3954072329355, 237.19487258748848, 286.92584338273076, 303.73094868999226, 346.0375571614594, 164.56615274393175, 208.47981263869437, 295.39809666127536, 318.1781602620426, 294.2339738847658, 484.0500225099125, 326.38764962949307, 785.6961949491506, 756.220467965009, 296.59756273188333, 1191.6982222918725, 952.7826160615032, 527.2986932461624, 402.617841125171, 742.2833784109512, 834.3381151671863, 335.7936922761651, 433.68186944242, 199.76042446524653, 336.2873439733328, 332.1262293911555, 247.3830530139141, 242.0960071339413, 229.68158815457085, 260.9180087931536, 293.15886927381524, 315.5274807827781, 383.19609989753303, 273.9288192621369, 358.7598984310292, 237.80897916717973, 648.2037146439544, 202.77216269575806, 165.96796339225781, 555.6979770679834, 886.5850624375022, 278.60565067490694, 345.76208482401813, 334.03070031293976, 302.6564663831413, 242.5393022813666, 275.16466574275114, 600.2355810279829, 281.9266154535879, 313.3152964834897, 295.84547346896204, 277.1966380484253, 239.62589185315832, 457.392728096791, 319.82950940039836, 606.8122099357336, 295.91664123724286, 256.6397147876616, 236.60066059063038, 167.83772801060692, 415.9593765217172, 440.8945713656196, 266.2810606054675, 186.64609019225796, 683.4679093017633, 289.1641392669774, 236.96467404575796, 260.1714453817483, 398.2373048171369, 246.82079371093303, 346.7051890087425, 200.026430498799, 196.20926507963785, 221.41799095941295, 240.8743248252175, 223.84812623844414, 297.5339364920182, 410.1613743257195, 272.9598581599931, 699.7907837128151, 705.7616716500921, 385.87699969728317, 392.4876885133011, 311.73684451821083, 366.16306732688827, 361.79623004966976, 346.7578450942748, 241.45855857129098, 578.8671995147806, 348.2659174794856, 201.63758012164863, 588.3520946556906, 266.7445703238659, 627.0073498405403, 398.36811614267873, 396.92833350407653, 865.8847130154011, 262.39193991578225, 672.3906070276021, 269.08770823865046, 372.74974762362325, 304.75659618864654, 344.8761602131577, 265.9910334450893, 318.39546126774434, 313.5775943721518, 187.23610989050994, 678.2041136205464, 1746.616100825111, 370.3185547991309, 251.96073503445263, 329.68919411313306, 349.1827330186336, 334.6225061153653, 193.60224776043796, 638.3408480803606, 264.2462679459004, 196.00904224721285, 287.66359358038216, 420.2340752207234, 287.1193339311318, 223.19157428951735, 301.813328043144, 389.6379010143198, 352.2044751951304, 243.60657297826162, 465.42638906546773, 276.9807266094498, 382.919600469712, 324.41239847323055, 338.73372472894, 420.7030015996321, 295.43025013836, 396.61160020077085, 744.7587696649273, 270.23080900210505, 506.06575670615194, 298.7509369771153, 570.522575264805, 637.6578566108705, 277.63129537018847, 323.8590113448238, 390.2072379418085, 305.9671589266448, 296.2008017788999, 692.5405094501701, 789.5815832529416, 412.38526231420184, 376.7577342653088, 282.58477005337875, 1137.893404221728, 165.42129879247045, 177.28078734403556, 267.65593012193096, 219.78535257505126, 455.4445215461385, 439.0233319703789, 249.33604284055048, 381.9496000850177, 379.8558436941121, 405.2405750944187, 442.5932812400198, 243.34688371624577, 658.0874412031637, 734.0189361012732, 322.1525027970427, 307.183462753175, 172.71958091635474, 1135.1877804403457, 230.3772961884976, 345.03855145046015, 193.9307809894606, 147.58474418823548, 342.6318839570565, 280.5198393435062, 340.8753474192649, 273.4984436792237, 273.52633895070454, 267.9493534745016, 359.5750107539034, 760.409245549728, 218.90553896247974, 799.4223052195483, 366.130110099744, 253.78516137801077, 134.0178899757856, 124.57524994732108, 241.4259231304257, 394.108927727431, 399.89577364913515, 318.94877720397267, 344.6182322281769, 352.72440257620707, 201.97444978430357, 193.80465710066449, 188.96468512292486, 248.0522189287936, 220.19939455498968, 231.3135746862833, 302.469811154561, 166.68577262051963, 304.17242375440435, 197.66024366762744, 190.84938872045035, 181.39716545841353, 373.93112556794006, 248.2448280954792, 355.9753847159414, 235.5289132554382, 439.1054975325091, 824.2191617087032, 904.3992028696036, 772.9375444073289, 522.4868695097309, 801.8651897211063, 139.5195958571901]\n"
     ]
    }
   ],
   "source": [
    "firs_comp=[]\n",
    "for ligne in range(0,569):\n",
    "    \n",
    "    val=0\n",
    "    for i in range(0,30):\n",
    "        val+=df.iloc[ligne][i]*df_comp.iloc[0][i]\n",
    "    firs_comp.append(val)   \n",
    "print(firs_comp)"
   ]
  },
  {
   "cell_type": "code",
   "execution_count": 60,
   "metadata": {},
   "outputs": [
    {
     "name": "stdout",
     "output_type": "stream",
     "text": [
      "[-772.386400481751, -819.5730384827559, -737.924155652332, -262.39492647784647, -730.5964789711433, -323.58203485307087, -668.90665844628, -389.01442593795144, -334.9376556657754, -316.246748794493, -500.4615009510182, -533.6593538250111, -640.5131332728643, -433.4552895764112, -340.4457350191688, -420.0410761389753, -469.9745508789096, -542.8745881500001, -913.1811204337308, -337.3201667940179, -306.2555035237383, -166.58856521190916, -440.9619629232835, -993.9107359585234, -782.154401118673, -614.9073524018141, -404.16307271050573, -640.6847650600373, -517.1849340376518, -561.298816084925, -705.2321608424501, -352.32990716243256, -575.8190596420227, -749.0893730698442, -528.3208535615851, -538.5708380621912, -378.174181485697, -285.4612782614528, -380.5121578177071, -343.6949265572863, -354.26316638900977, -242.01275445121894, -709.3115449016225, -380.4201430753448, -336.06089048482335, -671.3769997145872, -129.31167226342012, -341.526583514719, -276.9355841257434, -333.58077681861954, -257.2311206315471, -324.6876935456317, -260.07797792234254, -607.509532452848, -449.8351399420669, -248.84751398284993, -826.0463819858585, -427.66701058443266, -307.9015093383625, -142.44868142985092, -192.51799996920911, -144.72449603118935, -423.38785068513806, -163.6045951066751, -365.38986946747775, -416.62899675164397, -170.23904238752397, -234.73931347773288, -163.5537680591147, -282.9839829629004, -757.4558777251209, -153.56729088476726, -660.9752587057426, -366.8683847861773, -288.7240220823612, -528.0204929313564, -311.6138062923905, -673.2182639256404, -739.2874000952634, -301.0141067724872, -252.54032762925723, -303.2016538556196, -1109.1628564532086, -624.5553430644054, -271.2383862028525, -680.5953281462592, -384.5164938269274, -682.8886958455932, -280.85720373673786, -384.68577491958155, -385.14200540489185, -407.6964582103912, -362.94330157627775, -332.28402134305765, -451.10700560341877, -761.9315073074291, -257.35100993813876, -185.46586806196362, -249.74648622375796, -385.3865207792779, -390.67710556268196, -99.6516069953153, -270.213846039555, -184.98769841341579, -205.96083539452718, -357.6617595903117, -253.99806865552887, -270.6609441528723, -980.7390322416545, -248.08655014957316, -185.45036424004888, -273.4180913820383, -356.74016858418133, -198.610764422941, -147.81905302616835, -275.13738043265124, -149.6373632012221, -460.521592323759, -528.3341969008286, -573.3313201128121, -245.98011152209602, -669.1135304187274, -983.0483294563211, -364.19230377578276, -313.76315093857573, -345.70558408002603, -372.81862942741486, -680.695853498872, -380.6034275128363, -703.8983778042118, -269.77285513458673, -491.0044204207983, -510.9793209109352, -436.6173209510218, -674.5808383166141, -308.2092272350131, -264.09094441863346, -234.47568194377914, -440.45315174636, -225.7642892822753, -176.08852000489355, -528.483364691843, -245.4746081468015, -307.5454102533326, -218.69062120850535, -256.9315691288122, -276.4318316601308, -394.64405548217263, -369.8475987842564, -344.64432194977024, -305.15951774257456, -132.61407776132674, -194.56712950960483, -224.4360416419033, -322.45799919147765, -274.6937346364069, -585.5740605646832, -494.5842387299412, -263.0634387116275, -227.88505034933974, -264.35878854202156, -681.4608911927729, -860.7810147450434, -274.87674501401955, -1015.4534038326275, -383.8072209563402, -210.808444629299, -551.8031385512334, -678.7405452981349, -386.8968688927808, -271.8926914630878, -406.61183995359477, -474.96611590892184, -212.0289187920369, -209.53341144407614, -140.06509355675053, -194.92574159850057, -470.74870956610465, -301.2834710605551, -288.34652628776695, -1344.868479212131, -853.3924496943495, -520.0368648730857, -237.45703864569663, -434.5789898173965, -208.8450012912951, -618.7614824910604, -254.68713351797967, -248.28552711792554, -271.6908330439606, -363.89284976384886, -296.5280144754279, -168.18056569543157, -331.4942629933884, -385.99499607717456, -297.2840014675909, -372.15205623280616, -579.7808809632684, -716.8825922331922, -434.10822938333257, -294.41343257509493, -561.4122173357101, -921.2117282279207, -455.0737793512436, -309.658669436019, -440.6967484896923, -176.33259995580994, -545.2010141666733, -312.14668002466925, -427.92731042548667, -751.7861621322876, -262.4427083629079, -1300.484821716314, -511.455451900864, -376.6422155795318, -350.88596728493144, -261.3292388420768, -202.2575915683771, -818.9525205980639, -921.0447288059437, -335.8309307160255, -330.7482124384304, -192.18093510231637, -477.10958221411283, -331.899172209296, -397.73710291844736, -200.3672253555628, -391.09704899051053, -298.745172402386, -323.1468869566089, -533.9717622409748, -231.64373928148734, -235.03240127820698, -801.0786239121933, -172.53952541037282, -347.8500745902125, -1145.360411399245, -771.9880283396736, -366.79255395750766, -595.041010037064, -332.79867641564965, -271.82824683183134, -236.9929661745003, -345.0488501724257, -655.7008792462235, -206.31859281493888, -303.21396932311865, -307.9396557613916, -220.98518930817892, -243.84856662431358, -853.4183947681202, -249.93541970326388, -789.3610780268805, -548.5912560218775, -785.8428008485548, -375.9087627299224, -795.7520030280751, -433.258090975273, -532.4270932553933, -461.8741982162046, -784.5163163601571, -550.2523678415738, -580.4024420450673, -450.25973115532025, -599.888997814492, -1199.4999717801468, -215.15693770031737, -326.07272110766985, -295.6868680462112, -210.38225658347483, -344.7345482518216, -229.9270874915042, -976.4618188969177, -180.62258716539796, -590.914998502713, -251.42229405639998, -232.53351762625718, -594.2148459022205, -344.82129344179623, -332.7777675604333, -723.7692603582806, -261.89147919547423, -699.6755732926506, -475.2064524033008, -297.84437336058727, -282.38454294485103, -268.3249456964127, -290.1995953629934, -231.15045726448386, -233.80833959144962, -380.51933587096886, -392.21236907118845, -293.1613634045718, -256.45379344877574, -279.9429768391011, -328.05066408848955, -207.45173286568735, -269.5838100826434, -379.04891652717214, -195.5950934086235, -826.7663904422473, -277.1115209743419, -753.7847979890427, -196.5423636334487, -243.93013639737939, -244.12344223073717, -310.7249820471378, -151.16689599263435, -332.6551582594083, -319.6610143489514, -244.24333572700152, -392.0723912841643, -299.76161333847347, -237.19045091644077, -135.3301140695498, -274.17665276522393, -261.7110305031721, -635.4808336398764, -158.35068151142127, -269.0496822298321, -199.17696255471418, -739.6140076434065, -294.7291104953573, -804.119906915051, -279.2821329311732, -284.93548074133696, -357.83150090379917, -261.0535988112646, -500.22440250784666, -469.6726252727022, -480.35216573605067, -307.3286353623301, -226.43362464160836, -239.46670477707198, -270.42928915599794, -588.515143561567, -290.4241225978531, -747.869886758855, -193.71913564055436, -1155.3485854945554, -393.6059251486688, -178.14483191539435, -222.69248904793852, -695.9335978596827, -254.41457648256412, -190.35067236798022, -270.8875812856053, -404.3322015889664, -238.09909768276898, -251.95724653607618, -260.3867920417912, -440.3216359705409, -1296.1647048030627, -461.53983796048624, -230.87617223899676, -279.9237211170732, -296.67050630147105, -339.6332045267649, -157.90404024830167, -200.579913673255, -288.89353845479036, -311.2775862571275, -287.84867184046294, -476.4689605584923, -320.55522929454565, -774.010855589412, -741.6499284569373, -289.41949771789444, -1165.5607935385015, -935.5393232822807, -516.6773623938093, -397.2665972970273, -735.456251799639, -822.0174184273403, -329.98094515773266, -428.0973038159748, -193.68046814060386, -328.8795717834799, -326.5650699077804, -238.94490991021755, -235.8466313845826, -224.0047304153314, -254.50003705421784, -285.9424778644912, -309.814556383014, -375.2379742952139, -267.853522979178, -352.2710100883219, -231.46161031236025, -638.0050818043236, -197.65951719731902, -159.01758953290312, -541.6382067935222, -872.7813450783682, -271.525341567195, -339.94608417170434, -326.9685567308195, -295.7151123337648, -236.64031816388237, -268.0512413503636, -589.7945430738744, -275.66233246119066, -306.4512020298601, -290.146600137185, -271.049379283766, -232.23087665273204, -451.0626928644276, -311.4844112038145, -596.7771106000749, -288.3258187460791, -249.42731097832805, -230.25488407932392, -162.09377553889848, -407.6387480060265, -431.0507732696776, -259.36246699905996, -179.0102950853645, -661.2028009581768, -283.7554199130355, -230.1233035938339, -252.9668121934733, -389.33016666821726, -240.90514043740117, -339.53089188963185, -191.8280651151474, -190.10239233277767, -214.5131692823785, -233.09793184912579, -218.86880569054668, -291.2814562005978, -401.1432625649356, -266.66657250529175, -691.0080055550949, -691.7038032289773, -379.6530574226407, -383.82315272982646, -304.4621255998614, -358.9249616234413, -354.046978748451, -341.07060655650497, -233.93359790214106, -567.4367552136174, -341.77973873094777, -196.10531524432056, -580.1263155325415, -259.61256161443515, -615.2177267793917, -391.70972250724503, -389.27401747843294, -852.4945694133145, -255.32808185558903, -663.0164290563312, -261.63323265308765, -366.4856810915055, -298.5217664673274, -335.88600609330416, -257.39389500858636, -311.28091195661693, -306.3072360383654, -180.3461318265263, -660.9719201360041, -1702.8252826793098, -363.2025771011216, -245.90329450015653, -323.0973513021105, -340.38991111066633, -326.66480657699736, -186.9298595265014, -623.7519335494733, -256.34557711027566, -189.05126578651615, -278.2950463309431, -413.17236060008474, -278.31655288240944, -217.4654193354248, -295.9939583521727, -380.98266783653537, -346.15745120642634, -237.7160077854253, -457.38922091291874, -270.3302440991824, -374.92601134161265, -318.6640511525631, -332.2128593461308, -415.31087964513966, -287.37772508515224, -389.738936877905, -732.2209143199581, -263.05129494189237, -498.3394398291724, -291.1647025907737, -562.7310990834605, -624.8215773295262, -272.02234933460295, -316.48784750912574, -383.3151413457759, -298.88002093262276, -289.80317800962194, -679.2456145188871, -777.5262140546021, -404.81013049894773, -367.0870226404374, -276.4437803664341, -1116.438359203999, -159.2004322763975, -171.2090793052025, -261.5662331930302, -214.17616344924207, -449.89955603290946, -429.4766552803113, -243.9961874119651, -376.4050166696395, -369.91103833359165, -397.6195176083841, -433.5804659343203, -237.01126308294053, -646.7491528070266, -723.0701579606844, -313.6762593805131, -299.8960633226062, -166.66409609609943, -1118.1365619396315, -224.7994807802225, -337.58167627869125, -187.69752568261458, -142.5853517184001, -335.47064538363037, -275.2563517020944, -333.6548251579811, -267.64450262013844, -265.5311153596687, -260.82325932765275, -352.9233041495582, -748.1406449166745, -213.01762137984932, -786.7433842988712, -358.47369476381726, -245.9880587474638, -127.04310314523391, -117.87293721333721, -235.41963566764733, -385.6622467843935, -391.7465932229115, -311.4241070647245, -337.6474548271293, -344.72420851313694, -196.46789410220632, -188.5524284550098, -182.51703879427805, -239.33683065198528, -213.89101013641312, -224.56316224479093, -295.0667072332912, -160.517551437679, -296.8171771075361, -190.69189280031947, -184.98241031595828, -173.361549326267, -366.8776348390118, -240.55143853494087, -347.7025856698527, -227.80263587859915, -428.5927767522085, -808.3977564397081, -887.9163566067474, -758.8020480608474, -512.1418329861332, -785.872630562368, -132.514149671348]\n"
     ]
    }
   ],
   "source": [
    "sec_comp=[]\n",
    "for ligne in range(0,569):\n",
    "    \n",
    "    val=0\n",
    "    for i in range(0,30):\n",
    "        val+=df.iloc[ligne][i]*df_comp.iloc[1][i]\n",
    "    sec_comp.append(val)   \n",
    "print(sec_comp)"
   ]
  },
  {
   "cell_type": "code",
   "execution_count": 61,
   "metadata": {},
   "outputs": [
    {
     "data": {
      "text/plain": [
       "569"
      ]
     },
     "execution_count": 61,
     "metadata": {},
     "output_type": "execute_result"
    }
   ],
   "source": [
    "len(sec_comp)"
   ]
  },
  {
   "cell_type": "code",
   "execution_count": 62,
   "metadata": {},
   "outputs": [],
   "source": [
    "df['sec_component']=sec_comp"
   ]
  },
  {
   "cell_type": "code",
   "execution_count": 59,
   "metadata": {},
   "outputs": [],
   "source": [
    "df['first_component']=firs_comp"
   ]
  },
  {
   "cell_type": "code",
   "execution_count": 52,
   "metadata": {},
   "outputs": [
    {
     "data": {
      "text/plain": [
       "30"
      ]
     },
     "execution_count": 52,
     "metadata": {},
     "output_type": "execute_result"
    }
   ],
   "source": [
    "len(df.iloc[2])"
   ]
  },
  {
   "cell_type": "code",
   "execution_count": 67,
   "metadata": {},
   "outputs": [
    {
     "data": {
      "text/plain": [
       "Index(['mean radius', 'mean texture', 'mean perimeter', 'mean area',\n",
       "       'mean smoothness', 'mean compactness', 'mean concavity',\n",
       "       'mean concave points', 'mean symmetry', 'mean fractal dimension',\n",
       "       'radius error', 'texture error', 'perimeter error', 'area error',\n",
       "       'smoothness error', 'compactness error', 'concavity error',\n",
       "       'concave points error', 'symmetry error', 'fractal dimension error',\n",
       "       'worst radius', 'worst texture', 'worst perimeter', 'worst area',\n",
       "       'worst smoothness', 'worst compactness', 'worst concavity',\n",
       "       'worst concave points', 'worst symmetry', 'worst fractal dimension',\n",
       "       'first_component', 'sec_component'],\n",
       "      dtype='object')"
      ]
     },
     "execution_count": 67,
     "metadata": {},
     "output_type": "execute_result"
    }
   ],
   "source": [
    "df.columns"
   ]
  },
  {
   "cell_type": "code",
   "execution_count": 68,
   "metadata": {},
   "outputs": [],
   "source": [
    "df_feat=df[['first_component', 'sec_component']]"
   ]
  },
  {
   "cell_type": "code",
   "execution_count": 69,
   "metadata": {},
   "outputs": [
    {
     "data": {
      "text/plain": [
       "dict_keys(['data', 'target', 'frame', 'target_names', 'DESCR', 'feature_names', 'filename'])"
      ]
     },
     "execution_count": 69,
     "metadata": {},
     "output_type": "execute_result"
    }
   ],
   "source": [
    "cancer.keys()"
   ]
  },
  {
   "cell_type": "code",
   "execution_count": 72,
   "metadata": {},
   "outputs": [],
   "source": [
    "y=cancer['target']"
   ]
  },
  {
   "cell_type": "code",
   "execution_count": 73,
   "metadata": {},
   "outputs": [],
   "source": [
    "from sklearn.model_selection import train_test_split"
   ]
  },
  {
   "cell_type": "code",
   "execution_count": 74,
   "metadata": {},
   "outputs": [],
   "source": [
    "x_train,x_test,y_train,y_test=train_test_split(df_feat,y,test_size=0.33)"
   ]
  },
  {
   "cell_type": "code",
   "execution_count": 75,
   "metadata": {},
   "outputs": [],
   "source": [
    "from sklearn.svm import SVC"
   ]
  },
  {
   "cell_type": "code",
   "execution_count": 76,
   "metadata": {},
   "outputs": [],
   "source": [
    "model=SVC()"
   ]
  },
  {
   "cell_type": "code",
   "execution_count": 77,
   "metadata": {},
   "outputs": [
    {
     "data": {
      "text/plain": [
       "SVC()"
      ]
     },
     "execution_count": 77,
     "metadata": {},
     "output_type": "execute_result"
    }
   ],
   "source": [
    "model.fit(x_train,y_train)"
   ]
  },
  {
   "cell_type": "code",
   "execution_count": 78,
   "metadata": {},
   "outputs": [],
   "source": [
    "predictions=model.predict(x_test)"
   ]
  },
  {
   "cell_type": "code",
   "execution_count": 79,
   "metadata": {},
   "outputs": [],
   "source": [
    "from sklearn.metrics import classification_report,confusion_matrix"
   ]
  },
  {
   "cell_type": "code",
   "execution_count": 80,
   "metadata": {},
   "outputs": [
    {
     "data": {
      "text/plain": [
       "'              precision    recall  f1-score   support\\n\\n           0       0.96      0.77      0.85        69\\n           1       0.88      0.98      0.93       119\\n\\n    accuracy                           0.90       188\\n   macro avg       0.92      0.88      0.89       188\\nweighted avg       0.91      0.90      0.90       188\\n'"
      ]
     },
     "execution_count": 80,
     "metadata": {},
     "output_type": "execute_result"
    }
   ],
   "source": [
    "classification_report(y_test,predictions)"
   ]
  },
  {
   "cell_type": "code",
   "execution_count": 81,
   "metadata": {},
   "outputs": [
    {
     "data": {
      "text/plain": [
       "array([[ 53,  16],\n",
       "       [  2, 117]], dtype=int64)"
      ]
     },
     "execution_count": 81,
     "metadata": {},
     "output_type": "execute_result"
    }
   ],
   "source": [
    "confusion_matrix(y_test,predictions)"
   ]
  },
  {
   "cell_type": "code",
   "execution_count": null,
   "metadata": {},
   "outputs": [],
   "source": []
  }
 ],
 "metadata": {
  "kernelspec": {
   "display_name": "Python 3",
   "language": "python",
   "name": "python3"
  },
  "language_info": {
   "codemirror_mode": {
    "name": "ipython",
    "version": 3
   },
   "file_extension": ".py",
   "mimetype": "text/x-python",
   "name": "python",
   "nbconvert_exporter": "python",
   "pygments_lexer": "ipython3",
   "version": "3.6.10"
  }
 },
 "nbformat": 4,
 "nbformat_minor": 4
}
